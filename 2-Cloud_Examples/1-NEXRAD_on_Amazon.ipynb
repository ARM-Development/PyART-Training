{
 "cells": [
  {
   "cell_type": "markdown",
   "metadata": {},
   "source": [
    "# Remotely fetching NEXRAD data, gridding and intergration with MetPy and Siphon\n",
    "\n",
    "This notebook highlights the power of having NEXRAD on Amazon Web Services Simple Storage Service (S3). We use a tool, which is pip installable, called nexradaws. We show how it works to download and use tempfile for easy access. How to build a simple (with issues) function. We also showcase Py-ART's multi-radar gridding capabilities. Finally we show how Py-ART and MetPy + Siphon can be used to make nice mosiacs with metars. **Note: the MetPy portion only works for cases less than a month old. Will need to be updated when this component is taught**.\n"
   ]
  },
  {
   "cell_type": "code",
   "execution_count": null,
   "metadata": {},
   "outputs": [],
   "source": [
    "import nexradaws\n",
    "import tempfile\n",
    "import os\n",
    "import shutil\n",
    "import pyart\n",
    "from datetime import datetime, timedelta\n",
    "from matplotlib import pyplot as plt\n",
    "\n",
    "import cartopy.crs as ccrs\n",
    "import cartopy.feature as cfeature\n",
    "\n",
    "import metpy.calc as mpcalc\n",
    "import metpy.plots as mpplots\n",
    "\n",
    "import numpy as np\n",
    "\n",
    "from matplotlib.patheffects import withStroke\n",
    "from metpy.io import parse_metar_file\n",
    "from metpy.units import pandas_dataframe_to_unit_arrays\n",
    "\n",
    "# Here is where we import the TDSCatalog class from siphon for obtaining our data \n",
    "from siphon.catalog import TDSCatalog\n",
    "\n",
    "import pytz"
   ]
  },
  {
   "cell_type": "code",
   "execution_count": null,
   "metadata": {},
   "outputs": [],
   "source": [
    "# Create a tempory file, connect nexrad aws and request a list of files from the \n",
    "#Chicago NEXRAD for the 10th of August last year\n",
    "\n",
    "templocation = tempfile.mkdtemp()\n",
    "conn = nexradaws.NexradAwsInterface()\n",
    "scans = conn.get_avail_scans(2020, 8, 10,'KLOT')"
   ]
  },
  {
   "cell_type": "code",
   "execution_count": null,
   "metadata": {},
   "outputs": [],
   "source": [
    "#Download 5 files\n",
    "\n",
    "lcn = templocation\n",
    "localfiles = conn.download(scans[350:355],lcn)"
   ]
  },
  {
   "cell_type": "code",
   "execution_count": null,
   "metadata": {},
   "outputs": [],
   "source": [
    "#Load one of the files\n",
    "\n",
    "radar = pyart.io.read(localfiles.success[1].filepath)\n"
   ]
  },
  {
   "cell_type": "code",
   "execution_count": null,
   "metadata": {},
   "outputs": [],
   "source": [
    "#Visualize. Set the projection first this time so we have some\n",
    "#hand axes. Add the lakes at the bottom of the plot\n",
    "\n",
    "myf = plt.figure(figsize=[10,10])\n",
    "ax = plt.axes(projection=ccrs.PlateCarree())\n",
    "myd = pyart.graph.RadarMapDisplay(radar)\n",
    "ax.add_feature(cfeature.LAKES, zorder=0)\n",
    "\n",
    "myd.plot_ppi_map('reflectivity', 0, vmin=-8, vmax=64)\n"
   ]
  },
  {
   "cell_type": "markdown",
   "metadata": {},
   "source": [
    "## So this is cool.. How do we roll a custom function?"
   ]
  },
  {
   "cell_type": "code",
   "execution_count": null,
   "metadata": {},
   "outputs": [],
   "source": [
    "#Lets start by interrogating the scan object\n",
    "\n",
    "a=scans[-1]\n",
    "a.scan_time"
   ]
  },
  {
   "cell_type": "markdown",
   "metadata": {},
   "source": [
    "## An Aside, when it comes to coding...\n",
    "And you want to do something, like, say, finding the cloest time to a given date.. **GOOGLE IT AND CLICK THE FIRST STACK OVERFLOW LINK**. Coding from scratch is very rare.. Most coding is by addition of subtraction to existing code (like this cookbook!)."
   ]
  },
  {
   "cell_type": "code",
   "execution_count": null,
   "metadata": {},
   "outputs": [],
   "source": [
    "#https://stackoverflow.com/questions/32237862/find-the-closest-date-to-a-given-date/32237949\n",
    "def nearest(items, pivot):\n",
    "    return min(items, key=lambda x: abs(x - pivot))"
   ]
  },
  {
   "cell_type": "code",
   "execution_count": null,
   "metadata": {},
   "outputs": [],
   "source": [
    "# Now, by trail and error I found that some scan[i].times are none.. so lets control for that\n",
    "\n",
    "times = [scan.scan_time for scan in scans] # <--- Python generator... these can get you in trouble\n",
    "\n",
    "#Need to clean\n",
    "good_scans = []\n",
    "good_times = []\n",
    "for i in range(len(scans)):\n",
    "    if times[i] is not None:\n",
    "        good_times.append(times[i])\n",
    "        good_scans.append(scans[i])\n",
    "        \n",
    "nearest_time = nearest(good_times, datetime(2020,8,10,20,6,55,0, pytz.UTC)) # <---- nexradaws times are TZ aware \n",
    "\n",
    "\n",
    "index = times.index(nearest_time)"
   ]
  },
  {
   "cell_type": "code",
   "execution_count": null,
   "metadata": {},
   "outputs": [],
   "source": [
    "#Lets see if this worked\n",
    "print(index)"
   ]
  },
  {
   "cell_type": "markdown",
   "metadata": {},
   "source": [
    "## Woot! It works! Now lets wrap it into a function"
   ]
  },
  {
   "cell_type": "code",
   "execution_count": null,
   "metadata": {},
   "outputs": [],
   "source": [
    "# This is a VERY LAZY function. \n",
    "#No testing and if it gets a file Py-ART can not read it will fail, ungracefully\n",
    "\n",
    "def get_my_radar(connex, site, this_datetime):\n",
    "    tlocation = tempfile.mkdtemp()\n",
    "    these_scans = connex.get_avail_scans(this_datetime.year,this_datetime.month, this_datetime.day, site)\n",
    "    these_times = [scan.scan_time for scan in these_scans]\n",
    "    targ = this_datetime\n",
    "    \n",
    "    #Need to clean\n",
    "    these_good_scans = []\n",
    "    these_good_times = []\n",
    "    for i in range(len(these_scans)):\n",
    "        if these_times[i] is not None:\n",
    "            these_good_times.append(these_times[i])\n",
    "            these_good_scans.append(these_scans[i])\n",
    "    \n",
    "    print(len(these_good_scans), len(these_good_times))\n",
    "\n",
    "    this_nearest_time = nearest(these_good_times, targ)\n",
    "    this_index = these_good_times.index(this_nearest_time)\n",
    "    lcn = templocation\n",
    "    localfiles = conn.download(these_good_scans[this_index],lcn)\n",
    "    return pyart.io.read(localfiles.success[0].filepath)"
   ]
  },
  {
   "cell_type": "markdown",
   "metadata": {},
   "source": [
    "## Lets take this baby for a spin! \n",
    "Here are some dates (both timezone aware and naive) and radars when \"stuff\" happened."
   ]
  },
  {
   "cell_type": "code",
   "execution_count": null,
   "metadata": {},
   "outputs": [],
   "source": [
    "\n",
    "#Recent Chicago Snowstorm\n",
    "snow_time_n = datetime(2021, 2, 15, 20, 6, 55, 0) # <-- We first make Naive. The need for this will become apparent\n",
    "snow_time = snow_time_n.replace(tzinfo=pytz.UTC)\n",
    "snow_radar = \"KLOT\"\n",
    "\n",
    "#May 20th ARM MC3E case \n",
    "boom_time_n = datetime(2011, 5, 20, 11, 6, 55, 0)\n",
    "boom_time = boom_time_n.replace(tzinfo=pytz.UTC)\n",
    "snow_radar = \"KVNX\"\n",
    "\n",
    "#Irma\n",
    "hurricane_time_n = datetime(2017, 9, 6, 21, 48, 0)\n",
    "hurricane_time = hurricane_time_n.replace(tzinfo=pytz.UTC)\n",
    "hurricane_radar = \"TJUA\"\n",
    "\n",
    "#Midwest Derecho\n",
    "der_time_n = datetime(2020, 8, 10, 20, 48, 0)\n",
    "der_time = der_time_n.replace(tzinfo=pytz.UTC)\n",
    "der_radar = 'KLOT'\n",
    "\n",
    "#Specific example used for later, must be t-30 days\n",
    "#Change before giving live course\n",
    "recent_time_n = datetime(2021, 9, 7, 20, 8, 0)\n",
    "recent_time = recent_time_n.replace(tzinfo=pytz.UTC)\n",
    "recent_radar = 'KLOT'\n",
    "\n",
    "\n",
    "\n",
    "\n",
    "radar = get_my_radar(conn, recent_radar, recent_time)\n"
   ]
  },
  {
   "cell_type": "code",
   "execution_count": null,
   "metadata": {},
   "outputs": [],
   "source": [
    "myf = plt.figure(figsize=[10,10])\n",
    "\n",
    "map_panel_axes = [0.05, 0.05, .8, .8]\n",
    "ax = myf.add_axes(map_panel_axes, projection=ccrs.PlateCarree())\n",
    "\n",
    "myd = pyart.graph.RadarMapDisplay(radar)\n",
    "myd.plot_ppi_map('reflectivity', 0, vmin=-8, vmax=64, ax=ax, embelish=False, colorbar_flag=False)\n",
    "\n",
    "cbar = plt.colorbar(mappable=myd.plots[0], fraction=.1, shrink=.8, label='NEXRAD Z$_e$ (dBZ)')\n",
    "\n",
    "gl = ax.gridlines(draw_labels=True,\n",
    "                  linewidth=2, color='gray', alpha=0.5, linestyle='--')\n",
    "\n",
    "gl.ylabels_right = False\n",
    "ax.add_feature(cfeature.COASTLINE)\n",
    "ax.add_feature(cfeature.STATES)\n",
    "ax.add_feature(cfeature.LAKES, zorder=0)\n"
   ]
  },
  {
   "cell_type": "markdown",
   "metadata": {},
   "source": [
    "## Exercise: Fetch a high impact weather event\n",
    "Can you think of an interesting case near a NEXRAD?\n",
    "[![Foo](https://www.roc.noaa.gov/WSR88D/Images/CONUSLayoutNspgsW_TJUA.png)](https://www.roc.noaa.gov/WSR88D/Maps.aspx)\n"
   ]
  },
  {
   "cell_type": "code",
   "execution_count": null,
   "metadata": {},
   "outputs": [],
   "source": [
    "#Enter your code here"
   ]
  },
  {
   "cell_type": "markdown",
   "metadata": {},
   "source": [
    "## So back to gridding\n",
    "This code has been tweaked to run with 8GB memory. **This will only work on the Pangeo binder**."
   ]
  },
  {
   "cell_type": "code",
   "execution_count": null,
   "metadata": {},
   "outputs": [],
   "source": [
    "#Lets conserve some memory\n",
    "del(radar) #<--- The del command is handy!\n",
    "\n",
    "metpy_time = recent_time\n",
    "metpy_time_n = recent_time_n\n",
    "\n",
    "# https://www.spc.noaa.gov/climo/reports/210215_rpts.html\n",
    "\n",
    "KLOT = get_my_radar(conn, 'KLOT', metpy_time)\n",
    "KIWX = get_my_radar(conn, 'KIWX', metpy_time)\n",
    "KILX = get_my_radar(conn, 'KILX', metpy_time)"
   ]
  },
  {
   "cell_type": "code",
   "execution_count": null,
   "metadata": {},
   "outputs": [],
   "source": [
    "KLOT.fields.keys()"
   ]
  },
  {
   "cell_type": "code",
   "execution_count": null,
   "metadata": {},
   "outputs": [],
   "source": [
    "#more memory conserving, lets remove a bunch of radar moments. \n",
    "\n",
    "for key in ['clutter_filter_power_removed','velocity', 'differential_phase','spectrum_width' ]:\n",
    "    KILX.fields.pop(key)\n",
    "    KLOT.fields.pop(key)\n",
    "    KIWX.fields.pop(key)"
   ]
  },
  {
   "cell_type": "markdown",
   "metadata": {},
   "source": [
    "## Introducing Gatefilters!\n",
    "These will be covered in more detail in another notebook. Py-ART Gatefilters are a way of making highly configurable masks. Many (and soon all) Py-ART functions accept gatefilters. \n",
    "\n",
    "Here, we very simply make a gatefilter that excludes invalid (inf, nan et al) and masked values. **This can speed up gridding**."
   ]
  },
  {
   "cell_type": "code",
   "execution_count": null,
   "metadata": {},
   "outputs": [],
   "source": [
    "KILX_f = pyart.filters.GateFilter(KILX)\n",
    "KILX_f.exclude_masked('reflectivity')\n",
    "KILX_f.exclude_invalid('reflectivity')\n",
    "\n",
    "KLOT_f = pyart.filters.GateFilter(KLOT)\n",
    "KLOT_f.exclude_masked('reflectivity')\n",
    "KLOT_f.exclude_invalid('reflectivity')\n",
    "\n",
    "KIWX_f = pyart.filters.GateFilter(KIWX)\n",
    "KIWX_f.exclude_masked('reflectivity')\n",
    "KIWX_f.exclude_invalid('reflectivity')\n",
    "\n"
   ]
  },
  {
   "cell_type": "code",
   "execution_count": null,
   "metadata": {},
   "outputs": [],
   "source": [
    "#Lets construct a grid. NOTE: Origin is at the first radar in the tuple\n",
    "#This takes ~1 minute\n",
    "\n",
    "grids = pyart.map.grid_from_radars((KILX, KIWX, KLOT),(16,401,401),\n",
    "                   ((0.,15000.),(-400000.,400000.),(-400000.,400000.)), \n",
    "                                   weighting_function='Barnes2',\n",
    "                                  fields=['reflectivity','cross_correlation_ratio'],\n",
    "                                  gatefilters=(KILX_f, KIWX_f, KLOT_f))"
   ]
  },
  {
   "cell_type": "code",
   "execution_count": null,
   "metadata": {},
   "outputs": [],
   "source": [
    "# lets do some clean up\n",
    "del(KILX, KIWX, KLOT )"
   ]
  },
  {
   "cell_type": "code",
   "execution_count": null,
   "metadata": {},
   "outputs": [],
   "source": [
    "# Lets convert to xarray\n",
    "xgrids = grids.to_xarray()\n",
    "\n",
    "box = (xgrids.lon.values.min(),xgrids.lon.values.max(), \n",
    "               xgrids.lat.values.min(), xgrids.lat.values.max())"
   ]
  },
  {
   "cell_type": "code",
   "execution_count": null,
   "metadata": {},
   "outputs": [],
   "source": [
    "box"
   ]
  },
  {
   "cell_type": "code",
   "execution_count": null,
   "metadata": {},
   "outputs": [],
   "source": [
    "#lets make sure we get our projection right!\n",
    "\n",
    "print(grids.projection)\n",
    "lon_0 = grids.get_projparams()['lon_0']\n",
    "lat_0 = grids.get_projparams()['lat_0']\n",
    "proj = ccrs.AzimuthalEquidistant(central_latitude=lat_0, central_longitude=lon_0)"
   ]
  },
  {
   "cell_type": "code",
   "execution_count": null,
   "metadata": {},
   "outputs": [],
   "source": [
    "lalogrids = xgrids.swap_dims({\"x\": \"lon\"})\n",
    "lalogrids = lalogrids.swap_dims({\"y\": \"lat\"})\n",
    "\n",
    "\n",
    "fig = plt.figure(figsize=[15, 7])\n",
    "\n",
    "# panel sizes\n",
    "map_panel_axes = [0.05, 0.05, .4, .80]\n",
    "x_cut_panel_axes = [0.55, 0.10, .4, .25]\n",
    "y_cut_panel_axes = [0.55, 0.50, .4, .25]\n",
    "\n",
    "# panel 1\n",
    "ax1 = fig.add_axes(map_panel_axes, projection=proj)\n",
    "\n",
    "\n",
    "pc = xgrids.reflectivity.sel(z=3000, \n",
    "                        time=xgrids.time[0]).plot.pcolormesh(cmap=pyart.graph.cm_colorblind.HomeyerRainbow, \n",
    "                                                             vmin=-6, vmax=64, ax = ax1)\n",
    "\n",
    "ax1.add_feature(cfeature.COASTLINE)\n",
    "ax1.add_feature(cfeature.LAKES, zorder=0)\n",
    "\n",
    "gl = ax1.gridlines(draw_labels=True,\n",
    "                  linewidth=2, color='gray', alpha=0.5, linestyle='--')\n",
    "\n",
    "\n",
    "\n",
    "\n",
    "# panel 2, along longitude slice.\n",
    "ax2 = fig.add_axes(x_cut_panel_axes)\n",
    "\n",
    "pc = lalogrids.reflectivity.sel(lat=41.5, time=xgrids.time[0],method=\"nearest\").plot.pcolormesh(cmap=pyart.graph.cm_colorblind.HomeyerRainbow,\n",
    "                                                                      vmin=-6, vmax=64, ax=ax2)\n",
    "\n",
    "ax2.set_ylim([0,17000])\n",
    "ax2.set_xlim([-93,-87])\n",
    "ax2.set_xlabel('Distance from radar  (km)')\n",
    "\n",
    "# panel 3, along latitude slice\n",
    "ax3 = fig.add_axes(y_cut_panel_axes)\n",
    "\n",
    "pc = lalogrids.reflectivity.sel(lon=-88.5, time=xgrids.time[0],method=\"nearest\").plot.pcolormesh(cmap=pyart.graph.cm_colorblind.HomeyerRainbow,\n",
    "                                                                      vmin=-6, vmax=64, ax=ax3)\n",
    "\n",
    "ax3.set_ylim([0,17000])\n",
    "\n",
    "ax3.set_xlabel('Distance from radar (km)')\n"
   ]
  },
  {
   "cell_type": "markdown",
   "metadata": {},
   "source": [
    "## Now lets use MetPy!"
   ]
  },
  {
   "cell_type": "code",
   "execution_count": null,
   "metadata": {},
   "outputs": [],
   "source": [
    "\n",
    "lon_0 = grids.get_projparams()['lon_0']\n",
    "lat_0 = grids.get_projparams()['lat_0']\n",
    "proj = ccrs.AzimuthalEquidistant(central_latitude=lat_0, central_longitude=lon_0)\n",
    "box = (xgrids.lon.values.min(),xgrids.lon.values.max(), \n",
    "               xgrids.lat.values.min(), xgrids.lat.values.max())"
   ]
  },
  {
   "cell_type": "code",
   "execution_count": null,
   "metadata": {},
   "outputs": [],
   "source": [
    "# METAR information is stored in a different \n",
    "# location from the previous THREDDS catalog, \n",
    "# notice the change in URL.\n",
    "metar_cat = TDSCatalog('https://thredds-test.unidata.ucar.edu/thredds/catalog/noaaport/text/metar/catalog.xml')\n",
    "\n",
    "# Open the metar file that contains data\n",
    "# closest to the satellite image time, dt\n",
    "#metar_text = metar_cat.datasets.filter_time_nearest(metpy_time_n).remote_open(mode='t')\n",
    "metar_text = metar_cat.datasets.filter_time_range(metpy_time_n, metpy_time_n + timedelta(hours=1))[0].remote_open(mode='t')"
   ]
  },
  {
   "cell_type": "code",
   "execution_count": null,
   "metadata": {},
   "outputs": [],
   "source": [
    "metar_text"
   ]
  },
  {
   "cell_type": "code",
   "execution_count": null,
   "metadata": {},
   "outputs": [],
   "source": [
    "# parse_metar_file() outputs a pandas DataFrame\n",
    "sfc_data = parse_metar_file(metar_text, year=metpy_time_n.year, month=metpy_time_n.month)\n",
    "\n",
    "# Save the units for all columns to a new variable\n",
    "sfc_units = sfc_data.units\n",
    "\n",
    "# Filter out missing lat/lon data\n",
    "sfc_data = sfc_data[sfc_data.latitude.notna() & sfc_data.longitude.notna()]\n",
    "\n",
    "# Set missing weather condition data to an empty string, ''\n",
    "sfc_data['current_wx1'][sfc_data['current_wx1'].isna()] = ''"
   ]
  },
  {
   "cell_type": "code",
   "execution_count": null,
   "metadata": {},
   "outputs": [],
   "source": [
    "#Thanks Ryan May for this fix. There are more than one ob in a one hour Siphon sample\n",
    "\n",
    "def closest(df, dt):\n",
    "    diff = df.date_time - dt\n",
    "    ind = np.argmin(diff)\n",
    "    return df.iloc[ind]\n"
   ]
  },
  {
   "cell_type": "code",
   "execution_count": null,
   "metadata": {},
   "outputs": [],
   "source": [
    "sfc_data.pop('station_id')\n",
    "sfc_data = sfc_data.groupby('station_id').apply(closest, metpy_time_n)\n",
    "sfc_data = pandas_dataframe_to_unit_arrays(sfc_data, sfc_units)\n"
   ]
  },
  {
   "cell_type": "code",
   "execution_count": null,
   "metadata": {},
   "outputs": [],
   "source": [
    "sfc_data['wx_code'] = mpplots.wx_code_to_numeric(sfc_data['current_wx1'])\n",
    "sfc_data['u'], sfc_data['v'] = mpcalc.wind_components(sfc_data['wind_speed'], sfc_data['wind_direction'])\n",
    "\n",
    "# Start by creating the matplotlib axes\n",
    "fig = plt.figure(figsize=[15, 15])\n",
    "ax = plt.axes(projection=proj)\n",
    "pc = xgrids.reflectivity.sel(z=1000, method=\"nearest\",\n",
    "                        time=xgrids.time[0]).plot.pcolormesh(cmap=pyart.graph.cm_colorblind.HomeyerRainbow, \n",
    "                                                             vmin=-6, vmax=64)\n",
    "gl = ax.gridlines(draw_labels=True,\n",
    "                  linewidth=2, color='gray', alpha=0.5, linestyle='--')\n",
    "# Create the station plot object, stn,\n",
    "# from the StationPlot class, using the\n",
    "# PlateCarree projection\n",
    "stn = mpplots.StationPlot(ax, sfc_data['longitude'].m, sfc_data['latitude'].m, transform=ccrs.PlateCarree(),\n",
    "                         clip_on=True)\n",
    "\n",
    "# Populate the temperature and dewpoint\n",
    "stn.plot_parameter('NW', sfc_data['air_temperature'], color='red')\n",
    "stn.plot_parameter('SW', sfc_data['dew_point_temperature'], color='blue')\n",
    "\n",
    "# Populate the center circle cloud coverage and weather code\n",
    "stn.plot_symbol('C', sfc_data['cloud_coverage'], mpplots.sky_cover)\n",
    "stn.plot_symbol('E', sfc_data['wx_code'], mpplots.current_weather, color='blue')\n",
    "\n",
    "# Populate the wind bard\n",
    "stn.plot_barb(sfc_data['u'], sfc_data['v'])\n",
    "\n",
    "\n",
    "ax.add_feature(cfeature.COASTLINE)\n",
    "ax.add_feature(cfeature.LAKES, zorder=0)\n",
    "ax.set_extent(box)"
   ]
  },
  {
   "cell_type": "code",
   "execution_count": null,
   "metadata": {},
   "outputs": [],
   "source": []
  }
 ],
 "metadata": {
  "kernelspec": {
   "display_name": "Python 3",
   "language": "python",
   "name": "python3"
  },
  "language_info": {
   "codemirror_mode": {
    "name": "ipython",
    "version": 3
   },
   "file_extension": ".py",
   "mimetype": "text/x-python",
   "name": "python",
   "nbconvert_exporter": "python",
   "pygments_lexer": "ipython3",
   "version": "3.7.8"
  }
 },
 "nbformat": 4,
 "nbformat_minor": 5
}
