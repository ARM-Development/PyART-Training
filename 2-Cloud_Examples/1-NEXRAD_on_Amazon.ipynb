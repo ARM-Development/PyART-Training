{
 "cells": [
  {
   "cell_type": "code",
   "execution_count": null,
   "id": "handled-joint",
   "metadata": {},
   "outputs": [],
   "source": [
    "import nexradaws\n",
    "import tempfile\n",
    "import os\n",
    "import shutil\n",
    "import pyart\n",
    "from datetime import datetime, timedelta\n",
    "from matplotlib import pyplot as plt\n",
    "import cartopy.crs as ccrs\n",
    "\n",
    "\n",
    "import pytz"
   ]
  },
  {
   "cell_type": "code",
   "execution_count": null,
   "id": "human-input",
   "metadata": {},
   "outputs": [],
   "source": [
    "templocation = tempfile.mkdtemp()\n",
    "conn = nexradaws.NexradAwsInterface()\n",
    "scans = conn.get_avail_scans(2020, 8, 10,'KLOT')"
   ]
  },
  {
   "cell_type": "code",
   "execution_count": null,
   "id": "funny-story",
   "metadata": {},
   "outputs": [],
   "source": [
    "lcn = templocation\n",
    "localfiles = conn.download(scans[10:20],lcn)"
   ]
  },
  {
   "cell_type": "code",
   "execution_count": null,
   "id": "variable-cause",
   "metadata": {},
   "outputs": [],
   "source": [
    "radar = pyart.io.read(localfiles.success[0].filepath)\n"
   ]
  },
  {
   "cell_type": "code",
   "execution_count": null,
   "id": "assumed-difference",
   "metadata": {},
   "outputs": [],
   "source": [
    "myf = plt.figure(figsize=[10,10])\n",
    "myd = pyart.graph.RadarMapDisplay(radar)\n",
    "myd.plot_ppi_map('reflectivity', 0, vmin=-8, vmax=64)"
   ]
  },
  {
   "cell_type": "code",
   "execution_count": null,
   "id": "unlikely-ability",
   "metadata": {},
   "outputs": [],
   "source": [
    "a=scans[-1]"
   ]
  },
  {
   "cell_type": "code",
   "execution_count": null,
   "id": "lined-tennis",
   "metadata": {},
   "outputs": [],
   "source": [
    "a.scan_time"
   ]
  },
  {
   "cell_type": "code",
   "execution_count": null,
   "id": "labeled-lecture",
   "metadata": {},
   "outputs": [],
   "source": [
    "#https://stackoverflow.com/questions/32237862/find-the-closest-date-to-a-given-date/32237949\n",
    "def nearest(items, pivot):\n",
    "    return min(items, key=lambda x: abs(x - pivot))"
   ]
  },
  {
   "cell_type": "code",
   "execution_count": null,
   "id": "successful-camera",
   "metadata": {},
   "outputs": [],
   "source": [
    "times = [scan.scan_time for scan in scans]\n",
    "\n",
    "#Need to clean\n",
    "good_scans = []\n",
    "good_times = []\n",
    "for i in range(len(scans)):\n",
    "    if times[i] is not None:\n",
    "        good_times.append(times[i])\n",
    "        good_scans.append(scans[i])\n",
    "        \n",
    "nearest_time = nearest(good_times, datetime(2020,8,10,20,6,55,0, pytz.UTC))\n",
    "\n",
    "\n",
    "index = times.index(nearest_time)"
   ]
  },
  {
   "cell_type": "code",
   "execution_count": null,
   "id": "gorgeous-blake",
   "metadata": {},
   "outputs": [],
   "source": [
    "times"
   ]
  },
  {
   "cell_type": "code",
   "execution_count": null,
   "id": "verbal-potential",
   "metadata": {},
   "outputs": [],
   "source": [
    "good_times[index]"
   ]
  },
  {
   "cell_type": "code",
   "execution_count": null,
   "id": "square-period",
   "metadata": {},
   "outputs": [],
   "source": [
    "def get_my_radar(connex, site, this_datetime):\n",
    "    tlocation = tempfile.mkdtemp()\n",
    "    these_scans = connex.get_avail_scans(this_datetime.year,this_datetime.month, this_datetime.day, site)\n",
    "    these_times = [scan.scan_time for scan in these_scans]\n",
    "    targ = this_datetime\n",
    "    \n",
    "    #Need to clean\n",
    "    these_good_scans = []\n",
    "    these_good_times = []\n",
    "    for i in range(len(these_scans)):\n",
    "        if these_times[i] is not None:\n",
    "            these_good_times.append(these_times[i])\n",
    "            these_good_scans.append(these_scans[i])\n",
    "    \n",
    "    print(len(these_good_scans), len(these_good_times))\n",
    "\n",
    "    this_nearest_time = nearest(these_good_times, targ)\n",
    "    this_index = these_good_times.index(this_nearest_time)\n",
    "    lcn = templocation\n",
    "    localfiles = conn.download(these_good_scans[this_index],lcn)\n",
    "    return pyart.io.read(localfiles.success[0].filepath)"
   ]
  },
  {
   "cell_type": "code",
   "execution_count": null,
   "id": "otherwise-sword",
   "metadata": {},
   "outputs": [],
   "source": [
    "snow_time_n = datetime(2021, 2, 15, 20, 6, 55, 0)\n",
    "snow_time = snow_time_n.replace(tzinfo=pytz.UTC)\n",
    "\n",
    "boom_time_n = datetime(2011, 5, 20, 11, 6, 55, 0)\n",
    "boom_time = boom_time_n.replace(tzinfo=pytz.UTC)\n",
    "\n",
    "hurricane_time_n = datetime(2017, 9, 6, 21, 48, 0)\n",
    "hurricane_time = hurricane_time_n.replace(tzinfo=pytz.UTC)\n",
    "\n",
    "der_time_n = datetime(2020, 8, 10, 20, 48, 0)\n",
    "der_time = der_time_n.replace(tzinfo=pytz.UTC)\n",
    "\n",
    "recent_time_n = datetime(2021, 2, 15, 21, 38, 0)\n",
    "recent_time = datetime(2021, 2, 15, 21, 38, 0).replace(tzinfo=pytz.UTC)\n",
    "\n",
    "\n",
    "\n",
    "radar = get_my_radar(conn, 'KEVX', recent_time)\n"
   ]
  },
  {
   "cell_type": "code",
   "execution_count": null,
   "id": "equal-nigeria",
   "metadata": {},
   "outputs": [],
   "source": [
    "myf = plt.figure(figsize=[10,10])\n",
    "myd = pyart.graph.RadarMapDisplay(radar)\n",
    "myd.plot_ppi_map('reflectivity', 0, vmin=-8, vmax=64)"
   ]
  },
  {
   "cell_type": "markdown",
   "id": "affecting-embassy",
   "metadata": {},
   "source": [
    "## So back to gridding"
   ]
  },
  {
   "cell_type": "code",
   "execution_count": null,
   "id": "recent-wealth",
   "metadata": {},
   "outputs": [],
   "source": [
    "boom_time = datetime(2011, 5, 20, 11, 6, 55, 0, pytz.UTC)\n",
    "\n",
    "KVNX = get_my_radar(conn, 'KVNX', boom_time)\n",
    "KTLX = get_my_radar(conn, 'KTLX', boom_time)\n",
    "KINX = get_my_radar(conn, 'KINX', boom_time)\n"
   ]
  },
  {
   "cell_type": "code",
   "execution_count": null,
   "id": "living-attraction",
   "metadata": {},
   "outputs": [],
   "source": [
    "grids = pyart.map.grid_from_radars((KINX, KVNX, KTLX),(16,401,401),\n",
    "                   ((0.,15000.),(-400000.,400000.),(-400000.,400000.)),\n",
    "                   refl_field='reflectivity', weighting_function='Barnes2')"
   ]
  },
  {
   "cell_type": "code",
   "execution_count": null,
   "id": "widespread-stack",
   "metadata": {},
   "outputs": [],
   "source": [
    "\n",
    "xgrids = grids.to_xarray()\n",
    "box = (xgrids.lon.values.min(),xgrids.lon.values.max(), \n",
    "               xgrids.lat.values.min(), xgrids.lat.values.max())"
   ]
  },
  {
   "cell_type": "code",
   "execution_count": null,
   "id": "heavy-apple",
   "metadata": {},
   "outputs": [],
   "source": [
    "box"
   ]
  },
  {
   "cell_type": "code",
   "execution_count": null,
   "id": "hazardous-window",
   "metadata": {},
   "outputs": [],
   "source": [
    "print(grids.projection)\n",
    "lon_0 = grids.get_projparams()['lon_0']\n",
    "lat_0 = grids.get_projparams()['lat_0']\n",
    "proj = ccrs.AzimuthalEquidistant(central_latitude=lat_0, central_longitude=lon_0)"
   ]
  },
  {
   "cell_type": "code",
   "execution_count": null,
   "id": "adequate-platinum",
   "metadata": {},
   "outputs": [],
   "source": []
  },
  {
   "cell_type": "code",
   "execution_count": null,
   "id": "metric-bacteria",
   "metadata": {},
   "outputs": [],
   "source": [
    "fig = plt.figure(figsize=[15, 7])\n",
    "ax = plt.axes(projection=proj)\n",
    "pc = xgrids.reflectivity.sel(z=1000, \n",
    "                        time=xgrids.time[0]).plot.pcolormesh(cmap=pyart.graph.cm_colorblind.HomeyerRainbow, \n",
    "                                                             vmin=-6, vmax=64)\n",
    "gl = ax.gridlines(draw_labels=True,\n",
    "                  linewidth=2, color='gray', alpha=0.5, linestyle='--')"
   ]
  },
  {
   "cell_type": "markdown",
   "id": "gorgeous-capitol",
   "metadata": {},
   "source": [
    "## Now lets use MetPy!"
   ]
  },
  {
   "cell_type": "code",
   "execution_count": null,
   "id": "southeast-assignment",
   "metadata": {},
   "outputs": [],
   "source": [
    "\n",
    "import cartopy.crs as ccrs\n",
    "import cartopy.feature as cfeature\n",
    "\n",
    "# Notice that we will use \"plt\" to access matplotlib\n",
    "import matplotlib.pyplot as plt\n",
    "\n",
    "import metpy.calc as mpcalc\n",
    "import metpy.plots as mpplots\n",
    "\n",
    "import numpy as np\n",
    "\n",
    "from matplotlib.patheffects import withStroke\n",
    "from metpy.io import parse_metar_file\n",
    "from metpy.units import pandas_dataframe_to_unit_arrays\n",
    "\n",
    "# Here is where we import the TDSCatalog class from siphon for obtaining our data \n",
    "from siphon.catalog import TDSCatalog"
   ]
  },
  {
   "cell_type": "code",
   "execution_count": null,
   "id": "champion-amateur",
   "metadata": {},
   "outputs": [],
   "source": [
    "metpy_time = recent_time\n",
    "metpy_time_n = recent_time_n\n",
    "# https://www.spc.noaa.gov/climo/reports/210215_rpts.html\n",
    "\n",
    "KEOX = get_my_radar(conn, 'KEOX', metpy_time)\n",
    "KEVX = get_my_radar(conn, 'KEVX', metpy_time)\n",
    "KTLH = get_my_radar(conn, 'KTLH', metpy_time)\n",
    "KMXX = get_my_radar(conn, 'KMXX', metpy_time)\n",
    "\n"
   ]
  },
  {
   "cell_type": "code",
   "execution_count": null,
   "id": "communist-architecture",
   "metadata": {},
   "outputs": [],
   "source": [
    "grids = pyart.map.grid_from_radars((KEOX, KEVX, KTLH, KMXX),(16,401,401),\n",
    "                   ((0.,15000.),(-400000.,400000.),(-400000.,400000.)),\n",
    "                   refl_field='reflectivity', weighting_function='Barnes2')\n"
   ]
  },
  {
   "cell_type": "code",
   "execution_count": null,
   "id": "pediatric-medicine",
   "metadata": {},
   "outputs": [],
   "source": [
    "xgrids = grids.to_xarray()\n",
    "lon_0 = grids.get_projparams()['lon_0']\n",
    "lat_0 = grids.get_projparams()['lat_0']\n",
    "proj = ccrs.AzimuthalEquidistant(central_latitude=lat_0, central_longitude=lon_0)\n",
    "box = (xgrids.lon.values.min(),xgrids.lon.values.max(), \n",
    "               xgrids.lat.values.min(), xgrids.lat.values.max())"
   ]
  },
  {
   "cell_type": "code",
   "execution_count": null,
   "id": "marked-drain",
   "metadata": {},
   "outputs": [],
   "source": [
    "# METAR information is stored in a different \n",
    "# location from the previous THREDDS catalog, \n",
    "# notice the change in URL.\n",
    "metar_cat = TDSCatalog('https://thredds-test.unidata.ucar.edu/thredds/catalog/noaaport/text/metar/catalog.xml')\n",
    "\n",
    "# Open the metar file that contains data\n",
    "# closest to the satellite image time, dt\n",
    "#metar_text = metar_cat.datasets.filter_time_nearest(metpy_time_n).remote_open(mode='t')\n",
    "metar_text = metar_cat.datasets.filter_time_range(metpy_time_n, metpy_time_n + timedelta(hours=1))[0].remote_open(mode='t')"
   ]
  },
  {
   "cell_type": "code",
   "execution_count": null,
   "id": "latter-pressing",
   "metadata": {},
   "outputs": [],
   "source": [
    "metar_text"
   ]
  },
  {
   "cell_type": "code",
   "execution_count": null,
   "id": "acceptable-ethnic",
   "metadata": {},
   "outputs": [],
   "source": [
    "# parse_metar_file() outputs a pandas DataFrame\n",
    "sfc_data = parse_metar_file(metar_text, year=metpy_time_n.year, month=metpy_time_n.month)\n",
    "\n",
    "# Save the units for all columns to a new variable\n",
    "sfc_units = sfc_data.units\n",
    "\n",
    "# Filter out missing lat/lon data\n",
    "sfc_data = sfc_data[sfc_data.latitude.notna() & sfc_data.longitude.notna()]\n",
    "\n",
    "# Set missing weather condition data to an empty string, ''\n",
    "sfc_data['current_wx1'][sfc_data['current_wx1'].isna()] = ''"
   ]
  },
  {
   "cell_type": "code",
   "execution_count": null,
   "id": "distributed-invention",
   "metadata": {},
   "outputs": [],
   "source": [
    "sfc_data['date_time'][100]"
   ]
  },
  {
   "cell_type": "code",
   "execution_count": null,
   "id": "driven-nerve",
   "metadata": {},
   "outputs": [],
   "source": [
    "# Create final data structure\n",
    "#locs = proj.transform_points(ccrs.PlateCarree(), sfc_data['longitude'].m, sfc_data['latitude'].m)\n",
    "\n",
    "#plot_mask = mpcalc.reduce_point_density(locs[..., :2], 175000)\n",
    "sfc_data = pandas_dataframe_to_unit_arrays(sfc_data, sfc_units)"
   ]
  },
  {
   "cell_type": "code",
   "execution_count": null,
   "id": "dutch-crown",
   "metadata": {},
   "outputs": [],
   "source": [
    "sfc_data['wx_code'] = mpplots.wx_code_to_numeric(sfc_data['current_wx1'])\n",
    "sfc_data['u'], sfc_data['v'] = mpcalc.wind_components(sfc_data['wind_speed'], sfc_data['wind_direction'])\n",
    "\n",
    "plot_mask = mpcalc.reduce_point_density(locs[..., :2], 175000)\n",
    "\n",
    "# Start by creating the matplotlib axes\n",
    "fig = plt.figure(figsize=[15, 15])\n",
    "ax = plt.axes(projection=proj)\n",
    "pc = xgrids.reflectivity.sel(z=1000, \n",
    "                        time=xgrids.time[0]).plot.pcolormesh(cmap=pyart.graph.cm_colorblind.HomeyerRainbow, \n",
    "                                                             vmin=-6, vmax=64)\n",
    "gl = ax.gridlines(draw_labels=True,\n",
    "                  linewidth=2, color='gray', alpha=0.5, linestyle='--')\n",
    "# Create the station plot object, stn,\n",
    "# from the StationPlot class, using the\n",
    "# PlateCarree projection\n",
    "stn = mpplots.StationPlot(ax, sfc_data['longitude'].m, sfc_data['latitude'].m, transform=ccrs.PlateCarree(),\n",
    "                         clip_on=True)\n",
    "\n",
    "# Populate the temperature and dewpoint\n",
    "stn.plot_parameter('NW', sfc_data['air_temperature'], color='red')\n",
    "stn.plot_parameter('SW', sfc_data['dew_point_temperature'], color='blue')\n",
    "\n",
    "# Populate the center circle cloud coverage and weather code\n",
    "stn.plot_symbol('C', sfc_data['cloud_coverage'], mpplots.sky_cover)\n",
    "stn.plot_symbol('E', sfc_data['wx_code'], mpplots.current_weather, color='blue')\n",
    "\n",
    "# Populate the wind bard\n",
    "stn.plot_barb(sfc_data['u'], sfc_data['v'])\n",
    "\n",
    "\n",
    "ax.coastlines()\n",
    "ax.add_feature(cfeature.LAKES, zorder=0)\n",
    "\n",
    "gl = ax.gridlines(draw_labels=True,\n",
    "                  linewidth=2, color='gray', alpha=0.5, linestyle='--')\n",
    "ax.set_extent(box)"
   ]
  },
  {
   "cell_type": "code",
   "execution_count": null,
   "id": "engaged-collapse",
   "metadata": {},
   "outputs": [],
   "source": []
  },
  {
   "cell_type": "code",
   "execution_count": null,
   "id": "approved-pathology",
   "metadata": {},
   "outputs": [],
   "source": []
  }
 ],
 "metadata": {
  "kernelspec": {
   "display_name": "Python 3",
   "language": "python",
   "name": "python3"
  },
  "language_info": {
   "codemirror_mode": {
    "name": "ipython",
    "version": 3
   },
   "file_extension": ".py",
   "mimetype": "text/x-python",
   "name": "python",
   "nbconvert_exporter": "python",
   "pygments_lexer": "ipython3",
   "version": "3.7.10"
  }
 },
 "nbformat": 4,
 "nbformat_minor": 5
}
