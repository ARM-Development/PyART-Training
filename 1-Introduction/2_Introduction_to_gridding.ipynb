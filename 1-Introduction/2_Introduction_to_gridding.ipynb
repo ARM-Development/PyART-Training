{
 "cells": [
  {
   "cell_type": "markdown",
   "id": "large-filter",
   "metadata": {},
   "source": [
    "# Introduction to gridding and working with grids\n",
    "A common activity for working with scanning radar data is the estimation of the radar measuremets (and retrievals) on a regularly spaced grid. This could be for GIS purposes, the compraring to other data sources or for comparisons to model outputs. "
   ]
  },
  {
   "cell_type": "code",
   "execution_count": null,
   "id": "color-timber",
   "metadata": {},
   "outputs": [],
   "source": [
    "import cartopy.crs as ccrs\n",
    "import matplotlib.pyplot as plt\n",
    "import numpy as np\n",
    "import pyart\n",
    "import os\n",
    "import cartopy.crs as ccrs\n",
    "import cartopy.feature as cfeature\n",
    "\n",
    "\n",
    "import matplotlib.ticker as mticker\n",
    "\n"
   ]
  },
  {
   "cell_type": "code",
   "execution_count": null,
   "id": "varying-principal",
   "metadata": {},
   "outputs": [],
   "source": [
    "#Lets read in our data set\n",
    "radar = pyart.io.read(os.path.expanduser('~/data/arm/csapr_test_case.nc'), \n",
    "                      delay_field_loading = True)\n"
   ]
  },
  {
   "cell_type": "markdown",
   "id": "treated-salon",
   "metadata": {},
   "source": [
    "## Lets get some basic geometry about our radar data"
   ]
  },
  {
   "cell_type": "code",
   "execution_count": null,
   "id": "lined-closing",
   "metadata": {},
   "outputs": [],
   "source": [
    "max_lat = radar.gate_latitude['data'].max()\n",
    "min_lat = radar.gate_latitude['data'].min()\n",
    "max_lon = radar.gate_longitude['data'].max()\n",
    "min_lon = radar.gate_longitude['data'].min()\n",
    "print(max_lat, min_lat, max_lon, min_lon)\n",
    "\n",
    "height = radar.gate_altitude\n",
    "lats = radar.gate_latitude\n",
    "lons = radar.gate_longitude\n",
    "lat_lines = np.arange(min_lat, max_lat, .5)\n",
    "lon_lines = np.arange(min_lon, max_lon, .5)\n"
   ]
  },
  {
   "cell_type": "markdown",
   "id": "fitting-lease",
   "metadata": {},
   "source": [
    "## Lets take a look at all the bells and whistles on Py-ART's Gridder"
   ]
  },
  {
   "cell_type": "code",
   "execution_count": null,
   "id": "hazardous-panama",
   "metadata": {},
   "outputs": [],
   "source": [
    "pyart.map.map_gates_to_grid?"
   ]
  },
  {
   "cell_type": "code",
   "execution_count": null,
   "id": "arctic-relief",
   "metadata": {},
   "outputs": [],
   "source": []
  },
  {
   "cell_type": "markdown",
   "id": "crude-catalog",
   "metadata": {},
   "source": [
    "## Lets make a regular grid \n",
    "31 vertical levels, 301 by 301 horizontal points. 0 to 15km in height, and -120 to 120km in x and y. "
   ]
  },
  {
   "cell_type": "code",
   "execution_count": null,
   "id": "current-cowboy",
   "metadata": {},
   "outputs": [],
   "source": [
    "grids = pyart.map.grid_from_radars(radar,(31,301,301),\n",
    "                   ((0.,15000.),(-120000.,120000.),(-120000.,120000.)),\n",
    "                   refl_field='reflectivity', weighting_function='Barnes2')"
   ]
  },
  {
   "cell_type": "markdown",
   "id": "formed-project",
   "metadata": {},
   "source": [
    "# So what did we get???"
   ]
  },
  {
   "cell_type": "code",
   "execution_count": null,
   "id": "injured-pharmacology",
   "metadata": {},
   "outputs": [],
   "source": [
    "grids?"
   ]
  },
  {
   "cell_type": "code",
   "execution_count": null,
   "id": "listed-poker",
   "metadata": {},
   "outputs": [],
   "source": [
    "grids.fields.keys()"
   ]
  },
  {
   "cell_type": "markdown",
   "id": "consecutive-hundred",
   "metadata": {},
   "source": [
    "## Why your own grid object? What about xarray?\n",
    "When Py-ART was being developed xarray was very new.. but fear not! We have a simple method for converting"
   ]
  },
  {
   "cell_type": "code",
   "execution_count": null,
   "id": "elementary-michigan",
   "metadata": {},
   "outputs": [],
   "source": [
    "grids.to_xarray?"
   ]
  },
  {
   "cell_type": "code",
   "execution_count": null,
   "id": "intelligent-retail",
   "metadata": {},
   "outputs": [],
   "source": [
    "xgrids = grids.to_xarray()\n"
   ]
  },
  {
   "cell_type": "code",
   "execution_count": null,
   "id": "discrete-business",
   "metadata": {},
   "outputs": [],
   "source": [
    "xgrids"
   ]
  },
  {
   "cell_type": "code",
   "execution_count": null,
   "id": "objective-gallery",
   "metadata": {},
   "outputs": [],
   "source": [
    "xgrids.reflectivity.mean()"
   ]
  },
  {
   "cell_type": "code",
   "execution_count": null,
   "id": "parliamentary-plumbing",
   "metadata": {},
   "outputs": [],
   "source": [
    "xgrids.reflectivity.sel(z=500, time=xgrids.time[0])"
   ]
  },
  {
   "cell_type": "code",
   "execution_count": null,
   "id": "smoking-victorian",
   "metadata": {},
   "outputs": [],
   "source": [
    "xgrids.reflectivity.sel(z=500, time=xgrids.time[0]).plot.pcolormesh(cmap=pyart.graph.cm_colorblind.HomeyerRainbow, vmin=-6, vmax=64)"
   ]
  },
  {
   "cell_type": "code",
   "execution_count": null,
   "id": "sensitive-cheese",
   "metadata": {
    "scrolled": true
   },
   "outputs": [],
   "source": [
    "fig = plt.figure(figsize=[15, 7])\n",
    "ax = plt.axes(projection=ccrs.LambertConformal())\n",
    "pc = xgrids.reflectivity.sel(z=3000, \n",
    "                        time=xgrids.time[0]).plot.pcolormesh(cmap=pyart.graph.cm_colorblind.HomeyerRainbow, \n",
    "                                                             vmin=-6, vmax=64)\n",
    "gl = ax.gridlines(draw_labels=True,\n",
    "                  linewidth=2, color='gray', alpha=0.5, linestyle='--')"
   ]
  },
  {
   "cell_type": "code",
   "execution_count": null,
   "id": "olive-lancaster",
   "metadata": {},
   "outputs": [],
   "source": [
    "fig = plt.figure(figsize=[15, 7])\n",
    "pc = xgrids.reflectivity.sel(x=0, time=xgrids.time[0]).plot.pcolormesh(cmap=pyart.graph.cm_colorblind.HomeyerRainbow,\n",
    "                                                                      vmin=-6, vmax=64)\n",
    "\n"
   ]
  },
  {
   "cell_type": "code",
   "execution_count": null,
   "id": "casual-creek",
   "metadata": {},
   "outputs": [],
   "source": [
    "# A little trick with much thanks to Ryan Abernathy\n",
    "\n",
    "lalogrids = xgrids.swap_dims({\"x\": \"lon\"})\n",
    "lalogrids = lalogrids.swap_dims({\"y\": \"lat\"})\n"
   ]
  },
  {
   "cell_type": "code",
   "execution_count": null,
   "id": "sealed-american",
   "metadata": {},
   "outputs": [],
   "source": [
    "#lets make sure we get our projection right!\n",
    "\n",
    "print(grids.projection)\n",
    "lon_0 = grids.get_projparams()['lon_0']\n",
    "lat_0 = grids.get_projparams()['lat_0']\n",
    "proj = ccrs.AzimuthalEquidistant(central_latitude=lat_0, central_longitude=lon_0)\n",
    "\n",
    "\n",
    "fig = plt.figure(figsize=[15, 7])\n",
    "display = pyart.graph.GridMapDisplay(grids)\n",
    "\n",
    "# panel sizes\n",
    "map_panel_axes = [0.05, 0.05, .4, .80]\n",
    "x_cut_panel_axes = [0.55, 0.10, .4, .25]\n",
    "y_cut_panel_axes = [0.55, 0.50, .4, .25]\n",
    "\n",
    "# panel 1\n",
    "ax1 = fig.add_axes(map_panel_axes, projection=proj)\n",
    "\n",
    "\n",
    "pc = xgrids.reflectivity.sel(z=3000, \n",
    "                        time=xgrids.time[0]).plot.pcolormesh(cmap=pyart.graph.cm_colorblind.HomeyerRainbow, \n",
    "                                                             vmin=-6, vmax=64, ax = ax1)\n",
    "gl = ax1.gridlines(draw_labels=True,\n",
    "                  linewidth=2, color='gray', alpha=0.5, linestyle='--')\n",
    "\n",
    "ax1.add_feature(cfeature.RIVERS)\n",
    "ax1.add_feature(cfeature.STATES)\n",
    "\n",
    "\n",
    "#ax.add_feature(cartopy.feature.NaturalEarthFeature('cultural', 'roads', '10m'))\n",
    "roads = cfeature.NaturalEarthFeature(\n",
    "    category='cultural',\n",
    "    name='roads',\n",
    "    scale='10m',\n",
    "    facecolor='none',\n",
    "    edgecolor='black',\n",
    "    alpha=0.5)\n",
    "\n",
    "ax1.add_feature(roads)\n",
    "\n",
    "ax1.add_feature(cfeature.LAKES, zorder=0)\n",
    "\n",
    "\n",
    "# panel 2, along longitude slice.\n",
    "ax2 = fig.add_axes(x_cut_panel_axes)\n",
    "\n",
    "pc = lalogrids.reflectivity.sel(lat=36.9, time=xgrids.time[0],method=\"nearest\").plot.pcolormesh(cmap=pyart.graph.cm_colorblind.HomeyerRainbow,\n",
    "                                                                      vmin=-6, vmax=64, ax=ax2)\n",
    "\n",
    "ax2.set_ylim([0,15000])\n",
    "#ax2.set_xlim([-120000,120000])\n",
    "ax2.set_xlabel('Distance from SGP CF (km)')\n",
    "\n",
    "# panel 3, along latitude slice\n",
    "ax3 = fig.add_axes(y_cut_panel_axes)\n",
    "\n",
    "pc = lalogrids.reflectivity.sel(lon=-97.45, time=xgrids.time[0],method=\"nearest\").plot.pcolormesh(cmap=pyart.graph.cm_colorblind.HomeyerRainbow,\n",
    "                                                                      vmin=-6, vmax=64, ax=ax3)\n",
    "\n",
    "ax3.set_ylim([0,15000])\n",
    "#ax3.set_xlim([-120000,120000])\n",
    "ax3.set_xlabel('Distance from SGP CF (km)')\n"
   ]
  },
  {
   "cell_type": "code",
   "execution_count": null,
   "id": "historical-plasma",
   "metadata": {},
   "outputs": [],
   "source": [
    "grids."
   ]
  }
 ],
 "metadata": {
  "kernelspec": {
   "display_name": "Python 3",
   "language": "python",
   "name": "python3"
  },
  "language_info": {
   "codemirror_mode": {
    "name": "ipython",
    "version": 3
   },
   "file_extension": ".py",
   "mimetype": "text/x-python",
   "name": "python",
   "nbconvert_exporter": "python",
   "pygments_lexer": "ipython3",
   "version": "3.7.10"
  }
 },
 "nbformat": 4,
 "nbformat_minor": 5
}
