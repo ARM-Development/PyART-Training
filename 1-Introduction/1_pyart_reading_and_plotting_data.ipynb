{
 "cells": [
  {
   "cell_type": "markdown",
   "metadata": {},
   "source": [
    "# Pyart 1.0: Reading and Plotting a Radar File"
   ]
  },
  {
   "cell_type": "markdown",
   "metadata": {},
   "source": [
    "Let us start we an introductory on what is Py-ART, then after we will begin to code away."
   ]
  },
  {
   "cell_type": "markdown",
   "metadata": {},
   "source": [
    "The Python ARM Radar Toolkit or Py-ART:\n",
    "\n",
    " * Py-ART is a Python module for plotting, correcting and analyzing weather radar data.\n",
    " * Development began to address the needs of ARM with the acquisition of a number of\n",
    "   new scanning cloud and precipitation radar as part of the American Recovery Act.\n",
    " * The project has since expanded to work with a variety of weather radars and a wider user\n",
    "   base including radar researchers and climate modelers.\n",
    " * The software has been released on GitHub as open source software under a BSD license.\n",
    "   Runs on Linux, OS X. It also runs on Windows with more limited functionality.\n",
    "   \n",
    "Contributions from others are always welcome."
   ]
  },
  {
   "cell_type": "markdown",
   "metadata": {},
   "source": [
    "What can Py-ART do?\n",
    "Py-ART can be used for a variety of tasks from basic plotting to more complex\n",
    "processing pipelines. Specific uses for Py-ART include:\n",
    "\n",
    " * Reading radar data in a variety of file formats.\n",
    " * Creating plots and visualization of radar data.\n",
    " * Correcting radar moments while in antenna coordinates, such as:\n",
    "    * Doppler unfolding/de-aliasing.\n",
    "    * Attenuation correction.\n",
    "    * Phase processing using a Linear Programming method.\n",
    " * Mapping data from one or multiple radars onto a Cartesian grid.\n",
    " * Performing retrievals.\n",
    " * Writing radial and Cartesian data to NetCDF files."
   ]
  },
  {
   "cell_type": "markdown",
   "metadata": {},
   "source": [
    "Py-ART essentials links:\n",
    " * Landing page, [arm-doe.github.io/pyart/](http://arm-doe.github.io/pyart/)\n",
    " * Documentation, [arm-doe.github.io/pyart-docs-travis/](http://arm-doe.github.io/pyart-docs-travis/)\n",
    " * Examples, [arm-doe.github.io/pyart/dev/auto_examples/index.html](http://arm-doe.github.io/pyart/dev/auto_examples/index.html)\n",
    " * Source Code, [github.com/ARM-DOE/pyart](https://github.com/ARM-DOE/pyart)\n",
    " * Mailing list, [groups.google.com/group/pyart-users/](http://groups.google.com/group/pyart-users/)\n",
    " * Issue Tracker, [github.com/ARM-DOE/pyart/issues](https://github.com/ARM-DOE/pyart/issues)"
   ]
  },
  {
   "cell_type": "markdown",
   "metadata": {},
   "source": [
    "Now that we know what Py-ART is, let us began coding."
   ]
  },
  {
   "cell_type": "markdown",
   "metadata": {},
   "source": [
    "First we want to import any modules that will be needed."
   ]
  },
  {
   "cell_type": "code",
   "execution_count": null,
   "metadata": {},
   "outputs": [],
   "source": [
    "import cartopy.crs as ccrs\n",
    "import matplotlib.pyplot as plt\n",
    "import numpy as np\n",
    "import pyart\n",
    "import os\n",
    "import act"
   ]
  },
  {
   "cell_type": "code",
   "execution_count": null,
   "metadata": {},
   "outputs": [],
   "source": [
    "#WARNING: Ignoring warningings makes a pretty notebook but can lead to trouble\n",
    "import warnings\n",
    "warnings.filterwarnings('ignore')"
   ]
  },
  {
   "cell_type": "markdown",
   "metadata": {},
   "source": [
    "When reading in a radar file, we use the pyart.io.read module.\n",
    "pyart.io.read can read a variety of different radar formats, such as Cf/Radial, LASSEN, and more. \n",
    "The documentation on what formats can be read by Py-ART can be found here:\n",
    "\n",
    "http://arm-doe.github.io/pyart-docs-travis/user_reference/io.html\n",
    "\n",
    "For most file formats listed on the page, using pyart.io.read should suffice since Py-ART has the ability to automatically detect the file format."
   ]
  },
  {
   "cell_type": "markdown",
   "metadata": {},
   "source": [
    "To read a radar file, first we need to download a file from ARM. We will use the Atmospheric Community Toolkit to interface with the ARM Live interface.\n",
    "First lets define the username and token, we will use a group one for this course, please visit https://adc.arm.gov/armlive/ to get your very own!: "
   ]
  },
  {
   "cell_type": "code",
   "execution_count": null,
   "metadata": {},
   "outputs": [],
   "source": [
    "ARM_USERNAME = '' #Contact Instructor or sign up for username\n",
    "ARM_PASSWORD = '' # Contact Instructor or sign up for Token\n"
   ]
  },
  {
   "cell_type": "code",
   "execution_count": null,
   "metadata": {},
   "outputs": [],
   "source": []
  },
  {
   "cell_type": "code",
   "execution_count": null,
   "metadata": {},
   "outputs": [],
   "source": [
    "# more complex item\n",
    "#datastream = 'corcsapr2cmacppiM1.c1'\n",
    "#startdate = '2018-11-27T10:20:14.57Z'\n",
    "#enddate = '2018-11-27T10:40:14.579Z'\n",
    "\n",
    "\n",
    "datastream = 'sgpcsaprsurI7.00'\n",
    "startdate = '2011-05-20T10:20:14.57Z'\n",
    "enddate = '2011-05-20T10:40:14.579Z'\n",
    "outdir = os.path.expanduser('~/data/arm/')\n",
    "\n",
    "act.discovery.get_armfiles.download_data(ARM_USERNAME, ARM_PASSWORD, datastream,\n",
    "                                         startdate, enddate,\n",
    "                                         output=outdir)"
   ]
  },
  {
   "cell_type": "code",
   "execution_count": null,
   "metadata": {},
   "outputs": [],
   "source": [
    "#!tar -xvf ~/data/arm/sgpcsaprsurI7.00.20110520.103135.mdv.tar"
   ]
  },
  {
   "cell_type": "code",
   "execution_count": null,
   "metadata": {},
   "outputs": [],
   "source": [
    "#radar = pyart.io.read(os.path.expanduser('~/data/arm/corcsapr2cmacppiM1.c1.20181127.103003.nc'), \n",
    "#                      delay_field_loading = True)\n",
    "#BACKUP LOCAL DATAFILE\n",
    "radar = pyart.io.read(os.path.expanduser('~/data/arm/csapr_test_case.nc'), \n",
    "                      delay_field_loading = True)\n"
   ]
  },
  {
   "cell_type": "code",
   "execution_count": null,
   "metadata": {},
   "outputs": [],
   "source": [
    "pyart.io.read?"
   ]
  },
  {
   "cell_type": "markdown",
   "metadata": {},
   "source": [
    "When reading a radar file, there are a few options to add, such as excluding radar fields. Excluding fields becomes useful when you are loading many radar files at a time and want to conserve memory and save time."
   ]
  },
  {
   "cell_type": "markdown",
   "metadata": {},
   "source": [
    "To see the full list of parameters, in a Jupyter Notebook, simply add a question mark after the function."
   ]
  },
  {
   "cell_type": "markdown",
   "metadata": {},
   "source": [
    "In the radar object are fields. This is where data such as reflectivity and velocity are stored.\n",
    "To see what fields are present we can add the fields and keys additions to the variable where the\n",
    "radar object is stored."
   ]
  },
  {
   "cell_type": "code",
   "execution_count": null,
   "metadata": {},
   "outputs": [],
   "source": [
    "radar.fields.keys()"
   ]
  },
  {
   "cell_type": "markdown",
   "metadata": {},
   "source": [
    "The fields are stored in a dictionary, each containing coordinates, units and more.\n",
    "All can be accessed by just adding the fields addition to the radar object variable.\n",
    "For an individual field, we add a string in brackets after the fields addition to see\n",
    "the contents of that field."
   ]
  },
  {
   "cell_type": "code",
   "execution_count": null,
   "metadata": {},
   "outputs": [],
   "source": [
    "print(radar.fields)"
   ]
  },
  {
   "cell_type": "code",
   "execution_count": null,
   "metadata": {},
   "outputs": [],
   "source": [
    "print(radar.fields['reflectivity'])"
   ]
  },
  {
   "cell_type": "markdown",
   "metadata": {},
   "source": [
    "We can go even further in the dictionary and a see within the reflectivity field by accessing the units or data itself.\n",
    "For example add the string data in brackets after the reflectivity string bracket."
   ]
  },
  {
   "cell_type": "code",
   "execution_count": null,
   "metadata": {},
   "outputs": [],
   "source": [
    "print(radar.fields['reflectivity']['data'])"
   ]
  },
  {
   "cell_type": "code",
   "execution_count": null,
   "metadata": {},
   "outputs": [],
   "source": [
    "print(radar.fields['reflectivity']['data'][300, 2])"
   ]
  },
  {
   "cell_type": "markdown",
   "metadata": {},
   "source": [
    "Finally, for a more condensed view of the radar object, just use radar.info()."
   ]
  },
  {
   "cell_type": "code",
   "execution_count": null,
   "metadata": {},
   "outputs": [],
   "source": [
    "# This will read the whole radar object so lets leave it for at home\n",
    "# radar.info()"
   ]
  },
  {
   "cell_type": "markdown",
   "metadata": {},
   "source": [
    "Now that we have loaded the data and inspected it, the next logical thing to do is to visualize the data! Py-ART's visualiation functionality is done through the objects in the pyart.graph module: \n",
    "\n",
    "http://arm-doe.github.io/pyart-docs-travis/user_reference/graph.html\n",
    "\n",
    "In Py-ART there are 5 visualization classes in pyart.graph:\n",
    "\n",
    "* RadarDisplay\t                            \n",
    "* RadarMapDisplay\t                        \n",
    "* AirborneRadarDisplay\t                                        \n",
    "\n",
    "Plotting grid data\n",
    "* GridMapDisplay\n",
    "\n",
    "For the examples in this tutorial, we will be using RadarMapDisplay.  For this example, we are going to use Cartopy to plot our data. "
   ]
  },
  {
   "cell_type": "markdown",
   "metadata": {},
   "source": [
    "To display a radar image using Cartopy, we create a figure first and then create a RadarMapDisplayCartopy object from the radar. The following example displays the reflectivity from the radar."
   ]
  },
  {
   "cell_type": "code",
   "execution_count": null,
   "metadata": {},
   "outputs": [],
   "source": [
    "fig = plt.figure(figsize=[12, 12])\n",
    "display = pyart.graph.RadarMapDisplay(radar)\n",
    "display.plot_ppi_map('reflectivity', sweep=3, resolution='50m',\n",
    "                     vmin=-8, vmax=60,\n",
    "                     projection=ccrs.PlateCarree())\n",
    "plt.show()"
   ]
  },
  {
   "cell_type": "markdown",
   "metadata": {},
   "source": [
    "You can change many parameters in the graph by changing the arguments to plot_ppi_map. As you can recall from earlier. simply view these arguments in a Jupyter notebook by typing:"
   ]
  },
  {
   "cell_type": "code",
   "execution_count": null,
   "metadata": {},
   "outputs": [],
   "source": [
    "display.plot_ppi_map?"
   ]
  },
  {
   "cell_type": "markdown",
   "metadata": {},
   "source": [
    "For example, let's change the colormap to something different"
   ]
  },
  {
   "cell_type": "code",
   "execution_count": null,
   "metadata": {},
   "outputs": [],
   "source": [
    "fig = plt.figure(figsize=[12, 12])\n",
    "display = pyart.graph.RadarMapDisplay(radar)\n",
    "display.plot_ppi_map('reflectivity', sweep=2, resolution='50m',\n",
    "                     vmin=-8, vmax=64,\n",
    "                     projection=ccrs.PlateCarree(), cmap='pyart_Gray9')\n",
    "plt.show()"
   ]
  },
  {
   "cell_type": "markdown",
   "metadata": {},
   "source": [
    "Or, let's view a different elevation scan! To do this, change the sweep parameter in the plot_ppi_map function."
   ]
  },
  {
   "cell_type": "code",
   "execution_count": null,
   "metadata": {},
   "outputs": [],
   "source": [
    "fig = plt.figure(figsize=[12, 8])\n",
    "display = pyart.graph.RadarMapDisplay(radar)\n",
    "display.plot_ppi_map('differential_reflectivity', sweep=2, resolution='50m',\n",
    "                     vmin=-1, vmax=6,\n",
    "                     projection=ccrs.PlateCarree())\n",
    "plt.show()"
   ]
  },
  {
   "cell_type": "markdown",
   "metadata": {},
   "source": [
    "Or, display radial velocity instead of reflectivity."
   ]
  },
  {
   "cell_type": "code",
   "execution_count": null,
   "metadata": {},
   "outputs": [],
   "source": [
    "nyq = radar.instrument_parameters['nyquist_velocity']['data'][0]\n",
    "\n",
    "fig = plt.figure(figsize=[12, 8])\n",
    "display = pyart.graph.RadarMapDisplay(radar)\n",
    "display.plot_ppi_map('velocity', sweep=2, resolution='50m',\n",
    "                     vmin=-nyq, vmax=nyq,\n",
    "                     projection=ccrs.PlateCarree(), cmap='coolwarm')\n",
    "plt.show()"
   ]
  },
  {
   "cell_type": "markdown",
   "metadata": {},
   "source": [
    "## Lets make it pretty!"
   ]
  },
  {
   "cell_type": "code",
   "execution_count": null,
   "metadata": {},
   "outputs": [],
   "source": []
  },
  {
   "cell_type": "markdown",
   "metadata": {},
   "source": [
    "## Exercise\n",
    "\n",
    "Now that the basics of loading and processing Cf/Radial files has been introduced, let's go ahead use what we have learned to load and plot the file nsaxsaprppiC1.a1.20140201.184802.nc located in the data directory. Recommend using radar.fields.keys() to check the name of the fields for plotting. Play around with changing factors such as the field plotted, color scale, color maps, axes limits to get a feel for how to visualize radar data with Py-ART."
   ]
  },
  {
   "cell_type": "code",
   "execution_count": null,
   "metadata": {},
   "outputs": [],
   "source": []
  },
  {
   "cell_type": "markdown",
   "metadata": {},
   "source": [
    "Press shift-Enter in the below cell for a possible answer. There are many ways to visualize data using Py-ART, so the answer here is not necessarily the only one!"
   ]
  },
  {
   "cell_type": "code",
   "execution_count": null,
   "metadata": {
    "scrolled": true
   },
   "outputs": [],
   "source": [
    "# %load section_1_answer.py\n",
    "radar = pyart.io.read('./data/nsaxsaprppiC1.a1.20140201.184802.nc')\n",
    "display = pyart.graph.RadarMapDisplay(radar)\n",
    "display.plot_ppi_map('reflectivity_horizontal', sweep=0, vmin=-10, vmax=60,\n",
    "                     resolution='10m')\n"
   ]
  },
  {
   "cell_type": "code",
   "execution_count": null,
   "metadata": {},
   "outputs": [],
   "source": []
  }
 ],
 "metadata": {
  "kernelspec": {
   "display_name": "Python 3",
   "language": "python",
   "name": "python3"
  },
  "language_info": {
   "codemirror_mode": {
    "name": "ipython",
    "version": 3
   },
   "file_extension": ".py",
   "mimetype": "text/x-python",
   "name": "python",
   "nbconvert_exporter": "python",
   "pygments_lexer": "ipython3",
   "version": "3.7.10"
  }
 },
 "nbformat": 4,
 "nbformat_minor": 2
}
